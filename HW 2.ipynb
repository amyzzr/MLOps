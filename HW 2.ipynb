{
 "cells": [
  {
   "cell_type": "code",
   "execution_count": 1,
   "id": "1cfc6c9f",
   "metadata": {},
   "outputs": [],
   "source": [
    "%matplotlib inline\n",
    "import numpy as np\n",
    "import pandas as pd\n",
    "from scipy import stats\n",
    "import matplotlib.pyplot as plt\n",
    "import seaborn as sns\n",
    "from sklearn.model_selection import train_test_split\n",
    "# Importing Classifier Modules\n",
    "import sklearn\n",
    "from sklearn.metrics import mean_squared_error as MSE\n",
    "from sklearn.model_selection import cross_val_score\n",
    "from sklearn.tree import DecisionTreeRegressor\n",
    "\n",
    "pd.set_option('display.max_columns', None)\n",
    "sns.set(rc={'figure.figsize':(8,4)})"
   ]
  },
  {
   "cell_type": "markdown",
   "id": "a90e17e0",
   "metadata": {},
   "source": [
    "# Part A: Data Cleaning\n",
    "\n",
    "1) We will increase the complexity of our model slightly by increasing the number of features. Keep the following features:\n",
    "\n",
    "- T_degC (water temperature)\n",
    "- Salnty (salinity of water)\n",
    "- STheta (density of water)\n",
    "- O2ml_L (milliliters of dissolved oxygen per liter of water)\n",
    "- Depthm (depth in meters)"
   ]
  },
  {
   "cell_type": "code",
   "execution_count": 2,
   "id": "2ca4fac4",
   "metadata": {},
   "outputs": [
    {
     "name": "stderr",
     "output_type": "stream",
     "text": [
      "C:\\Users\\58386\\anaconda3\\lib\\site-packages\\IPython\\core\\interactiveshell.py:3444: DtypeWarning: Columns (47,73) have mixed types.Specify dtype option on import or set low_memory=False.\n",
      "  exec(code_obj, self.user_global_ns, self.user_ns)\n"
     ]
    }
   ],
   "source": [
    "df = pd.read_csv('bottle.csv')"
   ]
  },
  {
   "cell_type": "code",
   "execution_count": 3,
   "id": "ee328de4",
   "metadata": {},
   "outputs": [],
   "source": [
    "df = df[['T_degC','Salnty', 'STheta','O2ml_L','Depthm']]"
   ]
  },
  {
   "cell_type": "code",
   "execution_count": 4,
   "id": "3045d570",
   "metadata": {
    "scrolled": true
   },
   "outputs": [
    {
     "data": {
      "text/html": [
       "<div>\n",
       "<style scoped>\n",
       "    .dataframe tbody tr th:only-of-type {\n",
       "        vertical-align: middle;\n",
       "    }\n",
       "\n",
       "    .dataframe tbody tr th {\n",
       "        vertical-align: top;\n",
       "    }\n",
       "\n",
       "    .dataframe thead th {\n",
       "        text-align: right;\n",
       "    }\n",
       "</style>\n",
       "<table border=\"1\" class=\"dataframe\">\n",
       "  <thead>\n",
       "    <tr style=\"text-align: right;\">\n",
       "      <th></th>\n",
       "      <th>T_degC</th>\n",
       "      <th>Salnty</th>\n",
       "      <th>STheta</th>\n",
       "      <th>O2ml_L</th>\n",
       "      <th>Depthm</th>\n",
       "    </tr>\n",
       "  </thead>\n",
       "  <tbody>\n",
       "    <tr>\n",
       "      <th>0</th>\n",
       "      <td>10.50</td>\n",
       "      <td>33.440</td>\n",
       "      <td>25.649</td>\n",
       "      <td>NaN</td>\n",
       "      <td>0</td>\n",
       "    </tr>\n",
       "    <tr>\n",
       "      <th>1</th>\n",
       "      <td>10.46</td>\n",
       "      <td>33.440</td>\n",
       "      <td>25.656</td>\n",
       "      <td>NaN</td>\n",
       "      <td>8</td>\n",
       "    </tr>\n",
       "    <tr>\n",
       "      <th>2</th>\n",
       "      <td>10.46</td>\n",
       "      <td>33.437</td>\n",
       "      <td>25.654</td>\n",
       "      <td>NaN</td>\n",
       "      <td>10</td>\n",
       "    </tr>\n",
       "    <tr>\n",
       "      <th>3</th>\n",
       "      <td>10.45</td>\n",
       "      <td>33.420</td>\n",
       "      <td>25.643</td>\n",
       "      <td>NaN</td>\n",
       "      <td>19</td>\n",
       "    </tr>\n",
       "    <tr>\n",
       "      <th>4</th>\n",
       "      <td>10.45</td>\n",
       "      <td>33.421</td>\n",
       "      <td>25.643</td>\n",
       "      <td>NaN</td>\n",
       "      <td>20</td>\n",
       "    </tr>\n",
       "  </tbody>\n",
       "</table>\n",
       "</div>"
      ],
      "text/plain": [
       "   T_degC  Salnty  STheta  O2ml_L  Depthm\n",
       "0   10.50  33.440  25.649     NaN       0\n",
       "1   10.46  33.440  25.656     NaN       8\n",
       "2   10.46  33.437  25.654     NaN      10\n",
       "3   10.45  33.420  25.643     NaN      19\n",
       "4   10.45  33.421  25.643     NaN      20"
      ]
     },
     "execution_count": 4,
     "metadata": {},
     "output_type": "execute_result"
    }
   ],
   "source": [
    "df.head()"
   ]
  },
  {
   "cell_type": "markdown",
   "id": "6205d5b6",
   "metadata": {},
   "source": [
    "2) Remove NaN / NA values from dataset (prior to building train/test sets) (same as HW #1):\n",
    "- Shape of your data should be: (661268, 5)\n"
   ]
  },
  {
   "cell_type": "code",
   "execution_count": 5,
   "id": "602a00ee",
   "metadata": {},
   "outputs": [
    {
     "data": {
      "text/plain": [
       "(661268, 5)"
      ]
     },
     "execution_count": 5,
     "metadata": {},
     "output_type": "execute_result"
    }
   ],
   "source": [
    "df = df.dropna()\n",
    "df.shape"
   ]
  },
  {
   "cell_type": "markdown",
   "id": "bb9a08b6",
   "metadata": {},
   "source": [
    "3) Remove any STheta outliers (same as HW #1).\n",
    "- Shape of your data should be: (661268, 5)\n",
    "- Note: Outliers for STheta might have been removed due to NAs in new features. Be sure to verify this on your own."
   ]
  },
  {
   "cell_type": "code",
   "execution_count": 6,
   "id": "0ac736e9",
   "metadata": {},
   "outputs": [
    {
     "name": "stderr",
     "output_type": "stream",
     "text": [
      "C:\\Users\\58386\\AppData\\Local\\Temp/ipykernel_19224/2588158861.py:7: UserWarning: Matplotlib is currently using module://matplotlib_inline.backend_inline, which is a non-GUI backend, so cannot show the figure.\n",
      "  fig.show()\n"
     ]
    },
    {
     "data": {
      "image/png": "[encoded data removed]",
      "text/plain": [
       "<Figure size 864x288 with 2 Axes>"
      ]
     },
     "metadata": {},
     "output_type": "display_data"
    }
   ],
   "source": [
    "fig, ax = plt.subplots(1, 2, figsize=(12,4))\n",
    "\n",
    "ax[0].scatter(df.Salnty, df.T_degC, alpha=0.5)\n",
    "\n",
    "ax[1].scatter(df.STheta, df.T_degC, alpha=0.5)\n",
    "\n",
    "fig.show()"
   ]
  },
  {
   "cell_type": "code",
   "execution_count": 7,
   "id": "cfe8506d",
   "metadata": {},
   "outputs": [
    {
     "data": {
      "text/plain": [
       "(661268, 5)"
      ]
     },
     "execution_count": 7,
     "metadata": {},
     "output_type": "execute_result"
    }
   ],
   "source": [
    "df = df[df['STheta']<200]\n",
    "df.shape\n",
    "\n",
    "# Outliers for STheta have been removed due to NAs in new features. "
   ]
  },
  {
   "cell_type": "markdown",
   "id": "16725ade",
   "metadata": {},
   "source": [
    "# Part B: Train / Test Split & Scaling\n",
    "\n",
    "1) Create X & y objects:\n",
    "\n",
    "- X object should be all 4 predictors. Shape should be: (661268, 4)\n",
    "\n",
    "- y object should be just your target variable (T_degC): Shape should be: (661268, 1)\n",
    "\n",
    "Hint for y: You will need to specify the shape you want. Trying converting y to a numpy array, and then using the .reshape() method."
   ]
  },
  {
   "cell_type": "code",
   "execution_count": 8,
   "id": "51a39d0c",
   "metadata": {},
   "outputs": [],
   "source": [
    "X,y=df.drop(['T_degC'],axis=1),df['T_degC']"
   ]
  },
  {
   "cell_type": "code",
   "execution_count": 9,
   "id": "bf924596",
   "metadata": {},
   "outputs": [
    {
     "data": {
      "text/plain": [
       "(661268,)"
      ]
     },
     "execution_count": 9,
     "metadata": {},
     "output_type": "execute_result"
    }
   ],
   "source": [
    "y.shape"
   ]
  },
  {
   "cell_type": "markdown",
   "id": "2642d038",
   "metadata": {},
   "source": [
    "2) Generate X_train, X_test, y_train & y_test. Use 80% for train & 20% for test."
   ]
  },
  {
   "cell_type": "code",
   "execution_count": 10,
   "id": "861aec72",
   "metadata": {},
   "outputs": [],
   "source": [
    "X_train,X_test,y_train,y_test = train_test_split(X,y,train_size=0.8,test_size=0.2,random_state=0)"
   ]
  },
  {
   "cell_type": "markdown",
   "id": "e86325d7",
   "metadata": {},
   "source": [
    " 3) Scale all features to improve convergence in Gradient Descent. It is highly encouraged that you review the appropriate method of handling scaling with train & test data.\n",
    "\n",
    "Additional info on scaling with train & test sets: https://stats.stackexchange.com/questions/174823/how-to-apply-standardization-normalization-to-train-and-testset-if-prediction-i (Links to an external site.)\n",
    "\n",
    "The easiest approach is to use the sklearn tool \"StandardScaler\" - more info here: http://scikit-learn.org/stable/modules/generated/sklearn.preprocessing.StandardScaler.html (Links to an external site.)\n",
    "\n",
    "You should create two new X objects:\n",
    "- X_train_scaled\n",
    "- X_test_scaled.\n",
    "\n",
    "Note: X_test_scaled must use the scaling parameters learned from training data."
   ]
  },
  {
   "cell_type": "code",
   "execution_count": 11,
   "id": "595563eb",
   "metadata": {},
   "outputs": [],
   "source": [
    "from sklearn.preprocessing import StandardScaler\n",
    "scaler = StandardScaler() \n",
    "scaler.fit(X_train)\n",
    "X_train_scaled = scaler.fit_transform(X_train)"
   ]
  },
  {
   "cell_type": "code",
   "execution_count": 12,
   "id": "18f1e487",
   "metadata": {},
   "outputs": [
    {
     "data": {
      "text/plain": [
       "array([[-0.74540261, -0.63854348,  1.29855184, -0.67728002],\n",
       "       [ 0.51244708,  0.78685534, -0.55823535,  0.09669652],\n",
       "       [-0.2392213 ,  0.03800092,  0.02684603, -0.3047436 ],\n",
       "       ...,\n",
       "       [-0.43039708, -0.0303469 ,  0.08487063, -0.46531964],\n",
       "       [ 0.46465313,  0.77298767, -0.43735077,  0.09669652],\n",
       "       [-0.89312935, -0.47510303,  0.73764738, -0.47816573]])"
      ]
     },
     "execution_count": 12,
     "metadata": {},
     "output_type": "execute_result"
    }
   ],
   "source": [
    "X_train_scaled"
   ]
  },
  {
   "cell_type": "code",
   "execution_count": 13,
   "id": "ec2aeff9",
   "metadata": {},
   "outputs": [],
   "source": [
    "scaler = StandardScaler() \n",
    "scaler.fit(X_test)\n",
    "X_test_scaled = scaler.fit_transform(X_test)"
   ]
  },
  {
   "cell_type": "code",
   "execution_count": 14,
   "id": "d1700cda",
   "metadata": {
    "scrolled": true
   },
   "outputs": [
    {
     "data": {
      "text/plain": [
       "array([[-0.74609439, -0.97622802,  1.17715695, -0.69982041],\n",
       "       [ 0.85886281,  0.9804599 , -1.49343737,  0.51539716],\n",
       "       [-1.28035619, -0.1107699 ,  0.71837492, -0.22275887],\n",
       "       ...,\n",
       "       [ 0.04661112, -0.01273746, -0.25714054, -0.25821615],\n",
       "       [-1.58657942, -1.41885934,  1.32203548, -0.69982041],\n",
       "       [-1.01539709, -0.55538168,  0.86808274, -0.42260898]])"
      ]
     },
     "execution_count": 14,
     "metadata": {},
     "output_type": "execute_result"
    }
   ],
   "source": [
    "X_test_scaled"
   ]
  },
  {
   "cell_type": "markdown",
   "id": "3dc719e0",
   "metadata": {},
   "source": [
    "# Part C: Linear Regression with sklearn\n",
    "\n",
    "1) Create an instance of the LinearRegression class called \"lin_reg\". Fit lin_reg using X_train_scaled & y_train."
   ]
  },
  {
   "cell_type": "code",
   "execution_count": 15,
   "id": "a9a8eaf4",
   "metadata": {},
   "outputs": [
    {
     "data": {
      "text/plain": [
       "LinearRegression()"
      ]
     },
     "execution_count": 15,
     "metadata": {},
     "output_type": "execute_result"
    }
   ],
   "source": [
    "# fit model\n",
    "from sklearn.linear_model import LinearRegression\n",
    "\n",
    "lin_reg = LinearRegression()\n",
    "lin_reg.fit(X_train_scaled, y_train)"
   ]
  },
  {
   "cell_type": "markdown",
   "id": "9f29b276",
   "metadata": {},
   "source": [
    "2) Print out the coefficients (including the intercept)"
   ]
  },
  {
   "cell_type": "code",
   "execution_count": 16,
   "id": "851448b2",
   "metadata": {
    "scrolled": true
   },
   "outputs": [
    {
     "data": {
      "text/plain": [
       "10.914783098367892"
      ]
     },
     "execution_count": 16,
     "metadata": {},
     "output_type": "execute_result"
    }
   ],
   "source": [
    "lin_reg.intercept_"
   ]
  },
  {
   "cell_type": "code",
   "execution_count": 17,
   "id": "e44695d6",
   "metadata": {
    "scrolled": true
   },
   "outputs": [
    {
     "data": {
      "text/plain": [
       "array([ 1.63043136, -4.63255939,  0.30116055, -0.47546539])"
      ]
     },
     "execution_count": 17,
     "metadata": {},
     "output_type": "execute_result"
    }
   ],
   "source": [
    "lin_reg.coef_"
   ]
  },
  {
   "cell_type": "markdown",
   "id": "35ca115b",
   "metadata": {},
   "source": [
    "3) Predict T_degC for the test data using lin_reg. Make sure to use X_test_scaled!\n",
    "\n",
    "- Call predictions y_pred_sklearn"
   ]
  },
  {
   "cell_type": "code",
   "execution_count": 18,
   "id": "af3442d3",
   "metadata": {},
   "outputs": [],
   "source": [
    "y_pred_sklearn = lin_reg.predict(X_test_scaled)"
   ]
  },
  {
   "cell_type": "code",
   "execution_count": 19,
   "id": "3c906d5b",
   "metadata": {},
   "outputs": [
    {
     "data": {
      "text/plain": [
       "array([14.90801529,  7.07824331,  9.66265867, ..., 11.09511863,\n",
       "       15.63180974, 12.29445467])"
      ]
     },
     "execution_count": 19,
     "metadata": {},
     "output_type": "execute_result"
    }
   ],
   "source": [
    "y_pred_sklearn"
   ]
  },
  {
   "cell_type": "markdown",
   "id": "6782126c",
   "metadata": {},
   "source": [
    "4) Calculate the following for the test data:\n",
    "\n",
    "- mean squared error\n",
    "- r-squared\n",
    "- explained variance"
   ]
  },
  {
   "cell_type": "code",
   "execution_count": 20,
   "id": "8412a72d",
   "metadata": {},
   "outputs": [
    {
     "name": "stdout",
     "output_type": "stream",
     "text": [
      "Test set RMSE: 0.1103908924082949\n"
     ]
    }
   ],
   "source": [
    "# model evaluation\n",
    "\n",
    "# test\n",
    "test_mse = MSE(y_test, y_pred_sklearn)\n",
    "print(f\"Test set RMSE:\", test_mse)\n"
   ]
  },
  {
   "cell_type": "code",
   "execution_count": 21,
   "id": "0887f1a6",
   "metadata": {},
   "outputs": [
    {
     "name": "stdout",
     "output_type": "stream",
     "text": [
      "R2: 0.9938179693604139\n"
     ]
    }
   ],
   "source": [
    "# r-squared\n",
    "r2=sklearn.metrics.r2_score(y_test, y_pred_sklearn, sample_weight=None, multioutput='uniform_average')\n",
    "print(f\"R2:\", r2)"
   ]
  },
  {
   "cell_type": "code",
   "execution_count": 22,
   "id": "1f9b2c9c",
   "metadata": {},
   "outputs": [
    {
     "name": "stdout",
     "output_type": "stream",
     "text": [
      "explained variance: 0.993828764772263\n"
     ]
    }
   ],
   "source": [
    "# explained variance\n",
    "ev= sklearn.metrics.explained_variance_score(y_test, y_pred_sklearn, sample_weight=None, multioutput='uniform_average')\n",
    "print(f\"explained variance:\", ev)"
   ]
  },
  {
   "cell_type": "markdown",
   "id": "397eeef1",
   "metadata": {},
   "source": [
    "5) Create a scatterplot that shows actual versus predicted values for the T_degC.\n",
    "\n"
   ]
  },
  {
   "cell_type": "code",
   "execution_count": 23,
   "id": "f53b5a98",
   "metadata": {},
   "outputs": [
    {
     "data": {
      "image/png": "[encoded data removed]",
      "text/plain": [
       "<Figure size 576x288 with 1 Axes>"
      ]
     },
     "metadata": {},
     "output_type": "display_data"
    }
   ],
   "source": [
    "plt.scatter(y_test, y_pred_sklearn, alpha=0.5)\n",
    "plt.xlabel('y_test')\n",
    "plt.ylabel('y_pred')\n",
    "plt.show()"
   ]
  },
  {
   "cell_type": "markdown",
   "id": "a327f8b0",
   "metadata": {},
   "source": [
    "# Part D: Gradient Descent Mini-Batch\n",
    "\n",
    "Please make sure you are using Mini-Batch! Perform the following six steps for mini-batch sizes of: 50, 250, & 2000. Save all outputs"
   ]
  },
  {
   "cell_type": "markdown",
   "id": "f66a76f5",
   "metadata": {},
   "source": [
    "1) Similar to HW #1, you will need to add a column of 1s to X_train_scaled and X_test_scaled.\n",
    "\n",
    "2) The cost function we will use for Gradient Descent is MSE (refer to Equation 4-3 in Hands-On Machine Learning Chapter 4).\n",
    "\n",
    "Note: The Hands-on ML Github will be a helpful resource for solving Mini-Batch, but it does include a changing eta through using the learning_schedule function. Do not use a changing eta for this assignment, rather just use a static eta. This means you will need to make changes to the Github example for Mini-Batch.\n",
    "\n",
    "3) Feel free to use any value for eta and epochs, but 0.1 eta and 100 epochs should work fine for this HW.\n",
    "\n",
    "4) Calculate the following for the test data:\n",
    "\n",
    "- mean squared error\n",
    "- r-squared\n",
    "- explained variance\n",
    "\n",
    "5) Create a scatterplot that shows actual versus predicted values for the T_degC for the test data.\n",
    "\n",
    "6) Given we are estimating parameters through gradient descent we also want to check how our error metrics look for training data. Calculate the following for the training data:\n",
    "\n",
    "- mean squared error\n",
    "- r-squared\n",
    "- explained variance"
   ]
  },
  {
   "cell_type": "code",
   "execution_count": 24,
   "id": "365c2d48",
   "metadata": {},
   "outputs": [],
   "source": [
    "X_train_scaled  = np.c_[np.ones((len(X_train_scaled), 1)), X_train_scaled]  # include an intercept value of 1 for every observation in your X_train.\n",
    "X_test_scaled  = np.c_[np.ones((len(X_test_scaled), 1)), X_test_scaled]  # include an intercept value of 1 for every observation in your X_train."
   ]
  },
  {
   "cell_type": "code",
   "execution_count": 25,
   "id": "7ac3a5aa",
   "metadata": {},
   "outputs": [
    {
     "data": {
      "text/plain": [
       "array([[ 1.        , -0.74540261, -0.63854348,  1.29855184, -0.67728002],\n",
       "       [ 1.        ,  0.51244708,  0.78685534, -0.55823535,  0.09669652],\n",
       "       [ 1.        , -0.2392213 ,  0.03800092,  0.02684603, -0.3047436 ],\n",
       "       ...,\n",
       "       [ 1.        , -0.43039708, -0.0303469 ,  0.08487063, -0.46531964],\n",
       "       [ 1.        ,  0.46465313,  0.77298767, -0.43735077,  0.09669652],\n",
       "       [ 1.        , -0.89312935, -0.47510303,  0.73764738, -0.47816573]])"
      ]
     },
     "execution_count": 25,
     "metadata": {},
     "output_type": "execute_result"
    }
   ],
   "source": [
    "X_train_scaled"
   ]
  },
  {
   "cell_type": "code",
   "execution_count": 26,
   "id": "9eafeac8",
   "metadata": {},
   "outputs": [],
   "source": [
    "def mini_batch_gradient_descent(X_b, y, n_epochs, minibatch_size, eta):\n",
    "    m = len(X_b)\n",
    "\n",
    "    np.random.seed(1)\n",
    "    theta = np.random.randn(5,1) \n",
    "    \n",
    "    for epoch in range(n_epochs):\n",
    "        shuffled_indices = np.random.permutation(m)\n",
    "        X_b_shuffled = X_b[shuffled_indices]\n",
    "        \n",
    "        y = np.array(y)\n",
    "        y_shuffled = y[shuffled_indices]\n",
    "        y_shuffled = np.asarray(y_shuffled).reshape((len(y_shuffled),1))\n",
    "        for i in range(0, m, minibatch_size):\n",
    "            xi = X_b_shuffled[i:i+minibatch_size]\n",
    "            yi = y_shuffled[i:i+minibatch_size]\n",
    "            derived_cost_function = 2/minibatch_size * xi.T.dot(xi.dot(theta) - yi)\n",
    "            theta = theta - eta * derived_cost_function\n",
    "    return(theta)"
   ]
  },
  {
   "cell_type": "code",
   "execution_count": 27,
   "id": "45b75e05",
   "metadata": {},
   "outputs": [],
   "source": [
    "theta_50  = mini_batch_gradient_descent(X_train_scaled,y_train,100,50,0.1)\n",
    "theta_250  = mini_batch_gradient_descent(X_train_scaled,y_train,100,250,0.1)\n",
    "theta_2000  = mini_batch_gradient_descent(X_train_scaled,y_train,100,2000,0.1)"
   ]
  },
  {
   "cell_type": "code",
   "execution_count": 28,
   "id": "2c3043d7",
   "metadata": {},
   "outputs": [
    {
     "name": "stdout",
     "output_type": "stream",
     "text": [
      "[[10.91528358]\n",
      " [ 1.67650173]\n",
      " [-4.65459373]\n",
      " [ 0.32867742]\n",
      " [-0.48001081]]\n",
      "[[10.91653416]\n",
      " [ 1.62541101]\n",
      " [-4.62444492]\n",
      " [ 0.32349356]\n",
      " [-0.45836046]]\n",
      "[[10.91405201]\n",
      " [ 1.61442497]\n",
      " [-4.62199025]\n",
      " [ 0.30816658]\n",
      " [-0.46216644]]\n"
     ]
    }
   ],
   "source": [
    "print(theta_50)\n",
    "\n",
    "print(theta_250)\n",
    "\n",
    "print(theta_2000)\n"
   ]
  },
  {
   "cell_type": "code",
   "execution_count": 29,
   "id": "1e714fbf",
   "metadata": {},
   "outputs": [],
   "source": [
    "def compare_three(y_test,y_pred,y_train,y_pred_train):\n",
    "    test_mse = MSE(y_test, y_pred)\n",
    "    train_mse = MSE(y_train, y_pred_train)\n",
    "    print(f\"Test set MSE:\", test_mse)\n",
    "    print(f\"Train set MSE:\", train_mse)\n",
    "\n",
    "    test_r2=sklearn.metrics.r2_score(y_test, y_pred, sample_weight=None, multioutput='uniform_average')\n",
    "    train_r2=sklearn.metrics.r2_score(y_train, y_pred_train, sample_weight=None, multioutput='uniform_average')\n",
    "\n",
    "    print(f\"Test set R2:\", test_r2)\n",
    "    print(f\"Train set R2:\", train_r2)\n",
    "\n",
    "    test_ev= sklearn.metrics.explained_variance_score(y_test, y_pred, sample_weight=None, multioutput='uniform_average')\n",
    "    train_ev= sklearn.metrics.explained_variance_score(y_train, y_pred_train, sample_weight=None, multioutput='uniform_average')\n",
    "\n",
    "    print(f\"Test set explained variance:\", test_ev)\n",
    "    print(f\"Train set explained variance:\", train_ev)"
   ]
  },
  {
   "cell_type": "code",
   "execution_count": 30,
   "id": "27cb5181",
   "metadata": {},
   "outputs": [
    {
     "name": "stdout",
     "output_type": "stream",
     "text": [
      "Test set MSE: 0.11125567288909351\n",
      "Train set MSE: 0.11179616027430388\n",
      "Test set R2: 0.9937695405515495\n",
      "Train set R2: 0.9937348199950844\n",
      "Test set explained variance: 0.9937795717057335\n",
      "Train set explained variance: 0.9937348340324942\n"
     ]
    },
    {
     "data": {
      "image/png": "[encoded data removed]",
      "text/plain": [
       "<Figure size 576x288 with 1 Axes>"
      ]
     },
     "metadata": {},
     "output_type": "display_data"
    }
   ],
   "source": [
    "y_pred = X_test_scaled.dot(theta_50)\n",
    "y_pred_train = X_train_scaled.dot(theta_50)\n",
    "compare_three(y_test,y_pred,y_train,y_pred_train)\n",
    "\n",
    "plt.scatter(y_test, y_pred, alpha=0.5)\n",
    "plt.xlabel('y_test')\n",
    "plt.ylabel('y_pred')\n",
    "plt.show()"
   ]
  },
  {
   "cell_type": "code",
   "execution_count": 31,
   "id": "0e19a600",
   "metadata": {
    "scrolled": false
   },
   "outputs": [
    {
     "name": "stdout",
     "output_type": "stream",
     "text": [
      "Test set MSE: 0.11058582738169574\n",
      "Train set MSE: 0.11113000823547252\n",
      "Test set R2: 0.9938070527535091\n",
      "Train set R2: 0.9937721518893433\n",
      "Test set explained variance: 0.9938152968658467\n",
      "Train set explained variance: 0.9937723237230565\n"
     ]
    },
    {
     "data": {
      "image/png": "[encoded data removed]",
      "text/plain": [
       "<Figure size 576x288 with 1 Axes>"
      ]
     },
     "metadata": {},
     "output_type": "display_data"
    }
   ],
   "source": [
    "y_pred = X_test_scaled.dot(theta_250)\n",
    "y_pred_train = X_train_scaled.dot(theta_250)\n",
    "compare_three(y_test,y_pred,y_train,y_pred_train)\n",
    "\n",
    "plt.scatter(y_test, y_pred, alpha=0.5)\n",
    "plt.xlabel('y_test')\n",
    "plt.ylabel('y_pred')\n",
    "plt.show()"
   ]
  },
  {
   "cell_type": "code",
   "execution_count": 32,
   "id": "bc796a42",
   "metadata": {},
   "outputs": [
    {
     "name": "stdout",
     "output_type": "stream",
     "text": [
      "Test set MSE: 0.11063054446353796\n",
      "Train set MSE: 0.11104861483562319\n",
      "Test set R2: 0.9938045485399456\n",
      "Train set R2: 0.9937767132651546\n",
      "Test set explained variance: 0.9938165107727194\n",
      "Train set explained variance: 0.993776743218516\n"
     ]
    },
    {
     "data": {
      "image/png": "[encoded data removed]",
      "text/plain": [
       "<Figure size 576x288 with 1 Axes>"
      ]
     },
     "metadata": {},
     "output_type": "display_data"
    }
   ],
   "source": [
    "y_pred = X_test_scaled.dot(theta_2000)\n",
    "y_pred_train = X_train_scaled.dot(theta_2000)\n",
    "compare_three(y_test,y_pred,y_train,y_pred_train)\n",
    "\n",
    "plt.scatter(y_test, y_pred, alpha=0.5)\n",
    "plt.xlabel('y_test')\n",
    "plt.ylabel('y_pred')\n",
    "plt.show()"
   ]
  },
  {
   "cell_type": "markdown",
   "id": "2be11ce1",
   "metadata": {},
   "source": [
    "# Part E: Conceptual Questions\n",
    "\n",
    "### 1) Describe how parameter estimation in Gradient Descent differs from using the normal equation.\n"
   ]
  },
  {
   "cell_type": "markdown",
   "id": "4ef30298",
   "metadata": {},
   "source": [
    "Normal equation only has one solution and it use mathematically equation. Normal equation performs minimization without iteration. On the other hand,Gradient descent is an optimization algorithm used to find the values of parameters of a function that minimizes a cost function. We use gradient descent to update the parameters of the model. Parameters refer to coefficients in Linear Regression and weights in neural networks. "
   ]
  },
  {
   "cell_type": "markdown",
   "id": "abd0fa70",
   "metadata": {},
   "source": [
    "### 2) We used Mini-Batch Gradient descent here, but there are a variety of options for Gradient Descent. How is Mini-Batch Gradient Descent different from Stochastic Gradient Descent?\n"
   ]
  },
  {
   "cell_type": "markdown",
   "id": "b340f99f",
   "metadata": {},
   "source": [
    "Stochastic – compute gradient using one random training data instance at a time\n",
    "\n",
    "Mini-batch – compute gradient using small random sets of training data instances called mini-batches\n",
    "\n"
   ]
  },
  {
   "cell_type": "markdown",
   "id": "a6d9f499",
   "metadata": {},
   "source": [
    "### 3) Identify your best-performing version of Gradient Descent and compare the error metrics for test data vs training data. Does this version of gradient descent show signs of overfitting? Explain"
   ]
  },
  {
   "cell_type": "markdown",
   "id": "bb286a01",
   "metadata": {},
   "source": [
    "theta_250 is the best-performning version of Gradient Descent.\n",
    "\n",
    "Test set MSE: 0.11058582738169574\n",
    "Train set MSE: 0.11113000823547252\n",
    "Test set R2: 0.9938070527535091\n",
    "Train set R2: 0.9937721518893433\n",
    "Test set explained variance: 0.9938152968658467\n",
    "Train set explained variance: 0.9937723237230565\n",
    "\n",
    "The test set RMSE is slightly lower than Train set RMSE means that it does not have an overfitting problem"
   ]
  },
  {
   "cell_type": "markdown",
   "id": "62ba3d80",
   "metadata": {},
   "source": [
    "### 4) Explain what the learning rate is for. Even though we did not, why might it be helpful to change the learning rate over time?"
   ]
  },
  {
   "cell_type": "markdown",
   "id": "d2754617",
   "metadata": {},
   "source": [
    "The learning rate is a hyperparameter that controls how much to change the model in response to the estimated error each time the model weights are updated. A too small learnning rate may result in a long training process that could get stuck, whereas a too large learning rate may result in learning a sub-optimal set of weights too fast or an unstable training process.Therefore adapting learning rates can accelerate training and alleviate some of the pressure of choosing a learning rate and learning rate schedule.At the beginning, the model should take big steps. but if the model is near to its miminum point, it should take small steps"
   ]
  },
  {
   "cell_type": "markdown",
   "id": "15cad869",
   "metadata": {},
   "source": [
    "### 5) Why would a data scientist want to use early stopping in gradient descent?"
   ]
  },
  {
   "cell_type": "markdown",
   "id": "7024bf2f",
   "metadata": {},
   "source": [
    "It is a method for regularization that involves ending model training before training loss finishes decreasing. In early stopping, you end model training when the loss on a validation data set starts to increase, that is, when generalization performance worsens."
   ]
  }
 ],
 "metadata": {
  "kernelspec": {
   "display_name": "Python 3.9.7 ('base')",
   "language": "python",
   "name": "python3"
  },
  "language_info": {
   "codemirror_mode": {
    "name": "ipython",
    "version": 3
   },
   "file_extension": ".py",
   "mimetype": "text/x-python",
   "name": "python",
   "nbconvert_exporter": "python",
   "pygments_lexer": "ipython3",
   "version": "3.9.7"
  },
  "vscode": {
   "interpreter": {
    "hash": "d61c8c14b2b08d6ca869c9cb0d756abc0c62b40bc1b6b2d47cb9db780a359cc7"
   }
  }
 },
 "nbformat": 4,
 "nbformat_minor": 5
}
